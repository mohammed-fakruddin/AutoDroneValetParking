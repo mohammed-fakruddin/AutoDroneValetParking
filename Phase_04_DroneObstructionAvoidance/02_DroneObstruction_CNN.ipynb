{
 "cells": [
  {
   "cell_type": "code",
   "execution_count": 1,
   "metadata": {},
   "outputs": [],
   "source": [
    "import os\n",
    "import matplotlib.pyplot as plt"
   ]
  },
  {
   "cell_type": "code",
   "execution_count": 2,
   "metadata": {},
   "outputs": [
    {
     "name": "stderr",
     "output_type": "stream",
     "text": [
      "Using TensorFlow backend.\n"
     ]
    }
   ],
   "source": [
    "from keras.utils import np_utils"
   ]
  },
  {
   "cell_type": "code",
   "execution_count": 3,
   "metadata": {},
   "outputs": [],
   "source": [
    "import tensorflow as tf\n",
    "import tensorflow.keras\n",
    "from tensorflow.keras.models import Sequential\n",
    "from tensorflow.keras.layers import Dense, Dropout, Flatten\n",
    "from tensorflow.keras.layers import Conv2D, MaxPooling2D"
   ]
  },
  {
   "cell_type": "code",
   "execution_count": 4,
   "metadata": {},
   "outputs": [],
   "source": [
    "from tensorflow.keras.models import model_from_json"
   ]
  },
  {
   "cell_type": "code",
   "execution_count": 5,
   "metadata": {},
   "outputs": [],
   "source": [
    "from tensorflow.keras.callbacks import ModelCheckpoint"
   ]
  },
  {
   "cell_type": "code",
   "execution_count": 6,
   "metadata": {},
   "outputs": [],
   "source": [
    "import numpy as np"
   ]
  },
  {
   "cell_type": "code",
   "execution_count": 7,
   "metadata": {},
   "outputs": [
    {
     "data": {
      "text/plain": [
       "'2.3.0-dev20200615'"
      ]
     },
     "execution_count": 7,
     "metadata": {},
     "output_type": "execute_result"
    }
   ],
   "source": [
    "tf.__version__"
   ]
  },
  {
   "cell_type": "code",
   "execution_count": 8,
   "metadata": {},
   "outputs": [
    {
     "name": "stdout",
     "output_type": "stream",
     "text": [
      "259 36\n"
     ]
    }
   ],
   "source": [
    "files_train = 0\n",
    "files_validation = 0\n",
    "\n",
    "cwd = os.getcwd()\n",
    "folder = 'train_data/train'\n",
    "for sub_folder in os.listdir(folder):\n",
    "    path, dirs, files = next(os.walk(os.path.join(folder,sub_folder)))\n",
    "    files_train += len(files)\n",
    "\n",
    "\n",
    "folder = 'train_data/test'\n",
    "for sub_folder in os.listdir(folder):\n",
    "    path, dirs, files = next(os.walk(os.path.join(folder,sub_folder)))\n",
    "    files_validation += len(files)\n",
    "\n",
    "print(files_train,files_validation)"
   ]
  },
  {
   "cell_type": "code",
   "execution_count": 9,
   "metadata": {},
   "outputs": [],
   "source": [
    "img_width, img_height = 75, 75\n",
    "train_data_dir = \"train_data/train\"\n",
    "validation_data_dir = \"train_data/test\"\n",
    "nb_train_samples = files_train\n",
    "nb_validation_samples = files_validation\n",
    "batch_size = 32\n",
    "epochs = 15\n",
    "num_classes = 2"
   ]
  },
  {
   "cell_type": "code",
   "execution_count": 10,
   "metadata": {},
   "outputs": [],
   "source": [
    "import glob\n",
    "train_empty = glob.glob('train_data/train/no/*.*')\n",
    "train_occupied = glob.glob('train_data/train/yes/*.*')\n",
    "val_empty = glob.glob('train_data/test/no/*.*')\n",
    "val_occupied = glob.glob('test_data/test/yes/*.*')\n",
    "\n",
    "data = []\n",
    "labels = []\n",
    "\n",
    "for i in train_empty:   \n",
    "    image=tf.keras.preprocessing.image.load_img(i, color_mode='rgb', \n",
    "    target_size= (img_height, img_width))\n",
    "    image=np.array(image)\n",
    "    data.append(image)\n",
    "    labels.append(0)\n",
    "for i in train_occupied:   \n",
    "    image=tf.keras.preprocessing.image.load_img(i, color_mode='rgb', \n",
    "    target_size= (img_height, img_width))\n",
    "    image=np.array(image)\n",
    "    data.append(image)\n",
    "    labels.append(1)\n",
    "\n",
    "for i in val_empty:   \n",
    "    image=tf.keras.preprocessing.image.load_img(i, color_mode='rgb', \n",
    "    target_size= (img_height, img_width))\n",
    "    image=np.array(image)\n",
    "    data.append(image)\n",
    "    labels.append(0)\n",
    "for i in val_occupied:   \n",
    "    image=tf.keras.preprocessing.image.load_img(i, color_mode='rgb', \n",
    "    target_size= (img_height, img_width))\n",
    "    image=np.array(image)\n",
    "    data.append(image)\n",
    "    labels.append(1)\n",
    "\n",
    "data = np.array(data)\n",
    "labels = np.array(labels)\n",
    "\n"
   ]
  },
  {
   "cell_type": "code",
   "execution_count": 33,
   "metadata": {},
   "outputs": [],
   "source": [
    "from sklearn.model_selection import train_test_split\n",
    "X_train, X_test, y_train, y_test = train_test_split(data, labels, test_size=0.2,\n",
    "                                                random_state=42)"
   ]
  },
  {
   "cell_type": "code",
   "execution_count": 34,
   "metadata": {},
   "outputs": [
    {
     "name": "stdout",
     "output_type": "stream",
     "text": [
      "(222, 75, 75, 3)\n",
      "(222,)\n",
      "(56, 75, 75, 3)\n",
      "(56,)\n"
     ]
    }
   ],
   "source": [
    "print(X_train.shape)\n",
    "print(y_train.shape)\n",
    "print(X_test.shape)\n",
    "print(y_test.shape)"
   ]
  },
  {
   "cell_type": "code",
   "execution_count": 35,
   "metadata": {},
   "outputs": [],
   "source": [
    "Y_train = np_utils.to_categorical(y_train, num_classes)\n",
    "Y_test = np_utils.to_categorical(y_test, num_classes)"
   ]
  },
  {
   "cell_type": "code",
   "execution_count": 36,
   "metadata": {},
   "outputs": [
    {
     "data": {
      "text/plain": [
       "<matplotlib.image.AxesImage at 0x21a3c3d3d30>"
      ]
     },
     "execution_count": 36,
     "metadata": {},
     "output_type": "execute_result"
    },
    {
     "data": {
      "image/png": "[encoded data removed]",
      "text/plain": [
       "<Figure size 432x288 with 1 Axes>"
      ]
     },
     "metadata": {
      "needs_background": "light"
     },
     "output_type": "display_data"
    }
   ],
   "source": [
    "plt.imshow(X_train[2])"
   ]
  },
  {
   "cell_type": "code",
   "execution_count": 37,
   "metadata": {},
   "outputs": [],
   "source": [
    "model = Sequential()\n",
    "model.add(Conv2D(32, kernel_size = (3, 3), activation='relu', input_shape=(img_height, img_width, 3)))\n",
    "model.add(MaxPooling2D(pool_size=(2,2)))\n",
    "model.add(Conv2D(64, kernel_size=(3,3), activation='relu'))\n",
    "model.add(MaxPooling2D(pool_size=(2,2)))\n",
    "model.add(Conv2D(96, kernel_size=(3,3), activation='relu'))\n",
    "model.add(MaxPooling2D(pool_size=(2,2)))\n",
    "\n",
    "model.add(Dropout(0.2))\n",
    "model.add(Flatten())\n",
    "model.add(Dense(256, activation='relu'))\n",
    "model.add(Dropout(0.2))\n",
    "model.add(Dense(128, activation='relu'))\n",
    "#model.add(Dropout(0.3))\n",
    "model.add(Dense(1, activation = 'sigmoid'))"
   ]
  },
  {
   "cell_type": "code",
   "execution_count": 38,
   "metadata": {},
   "outputs": [
    {
     "name": "stdout",
     "output_type": "stream",
     "text": [
      "Model: \"sequential_1\"\n",
      "_________________________________________________________________\n",
      "Layer (type)                 Output Shape              Param #   \n",
      "=================================================================\n",
      "conv2d_3 (Conv2D)            (None, 73, 73, 32)        896       \n",
      "_________________________________________________________________\n",
      "max_pooling2d_3 (MaxPooling2 (None, 36, 36, 32)        0         \n",
      "_________________________________________________________________\n",
      "conv2d_4 (Conv2D)            (None, 34, 34, 64)        18496     \n",
      "_________________________________________________________________\n",
      "max_pooling2d_4 (MaxPooling2 (None, 17, 17, 64)        0         \n",
      "_________________________________________________________________\n",
      "conv2d_5 (Conv2D)            (None, 15, 15, 96)        55392     \n",
      "_________________________________________________________________\n",
      "max_pooling2d_5 (MaxPooling2 (None, 7, 7, 96)          0         \n",
      "_________________________________________________________________\n",
      "dropout_2 (Dropout)          (None, 7, 7, 96)          0         \n",
      "_________________________________________________________________\n",
      "flatten_1 (Flatten)          (None, 4704)              0         \n",
      "_________________________________________________________________\n",
      "dense_3 (Dense)              (None, 256)               1204480   \n",
      "_________________________________________________________________\n",
      "dropout_3 (Dropout)          (None, 256)               0         \n",
      "_________________________________________________________________\n",
      "dense_4 (Dense)              (None, 128)               32896     \n",
      "_________________________________________________________________\n",
      "dense_5 (Dense)              (None, 1)                 129       \n",
      "=================================================================\n",
      "Total params: 1,312,289\n",
      "Trainable params: 1,312,289\n",
      "Non-trainable params: 0\n",
      "_________________________________________________________________\n"
     ]
    }
   ],
   "source": [
    "model.summary()"
   ]
  },
  {
   "cell_type": "code",
   "execution_count": 39,
   "metadata": {},
   "outputs": [],
   "source": [
    "\n",
    "model.compile(loss='binary_crossentropy', optimizer='adam', metrics = ['accuracy'])"
   ]
  },
  {
   "cell_type": "code",
   "execution_count": 40,
   "metadata": {},
   "outputs": [],
   "source": [
    "# checkpoint\n",
    "filepath=\"drone_obstruction_classification.hdf5\"\n",
    "checkpoint = ModelCheckpoint(filepath, monitor='val_accuracy', verbose=1, save_best_only=True, mode='max')\n",
    "callbacks_list = [checkpoint]"
   ]
  },
  {
   "cell_type": "code",
   "execution_count": 41,
   "metadata": {},
   "outputs": [
    {
     "name": "stdout",
     "output_type": "stream",
     "text": [
      "WARNING:tensorflow:AutoGraph could not transform <function Model.make_train_function.<locals>.train_function at 0x0000021A3E0377B8> and will run it as-is.\n",
      "Please report this to the TensorFlow team. When filing the bug, set the verbosity to 10 (on Linux, `export AUTOGRAPH_VERBOSITY=10`) and attach the full output.\n",
      "Cause: 'arguments' object has no attribute 'posonlyargs'\n",
      "To silence this warning, decorate the function with @tf.autograph.experimental.do_not_convert\n",
      "WARNING: AutoGraph could not transform <function Model.make_train_function.<locals>.train_function at 0x0000021A3E0377B8> and will run it as-is.\n",
      "Please report this to the TensorFlow team. When filing the bug, set the verbosity to 10 (on Linux, `export AUTOGRAPH_VERBOSITY=10`) and attach the full output.\n",
      "Cause: 'arguments' object has no attribute 'posonlyargs'\n",
      "To silence this warning, decorate the function with @tf.autograph.experimental.do_not_convert\n",
      "WARNING:tensorflow:AutoGraph could not transform <function Model.make_test_function.<locals>.test_function at 0x0000021A3E64C730> and will run it as-is.\n",
      "Please report this to the TensorFlow team. When filing the bug, set the verbosity to 10 (on Linux, `export AUTOGRAPH_VERBOSITY=10`) and attach the full output.\n",
      "Cause: 'arguments' object has no attribute 'posonlyargs'\n",
      "To silence this warning, decorate the function with @tf.autograph.experimental.do_not_convert\n",
      "WARNING: AutoGraph could not transform <function Model.make_test_function.<locals>.test_function at 0x0000021A3E64C730> and will run it as-is.\n",
      "Please report this to the TensorFlow team. When filing the bug, set the verbosity to 10 (on Linux, `export AUTOGRAPH_VERBOSITY=10`) and attach the full output.\n",
      "Cause: 'arguments' object has no attribute 'posonlyargs'\n",
      "To silence this warning, decorate the function with @tf.autograph.experimental.do_not_convert\n",
      "\n",
      "Epoch 00001: val_accuracy improved from -inf to 0.41071, saving model to drone_obstruction_classification.hdf5\n",
      "\n",
      "Epoch 00002: val_accuracy improved from 0.41071 to 0.58929, saving model to drone_obstruction_classification.hdf5\n",
      "\n",
      "Epoch 00003: val_accuracy did not improve from 0.58929\n",
      "\n",
      "Epoch 00004: val_accuracy did not improve from 0.58929\n",
      "\n",
      "Epoch 00005: val_accuracy improved from 0.58929 to 0.62500, saving model to drone_obstruction_classification.hdf5\n",
      "\n",
      "Epoch 00006: val_accuracy did not improve from 0.62500\n",
      "\n",
      "Epoch 00007: val_accuracy did not improve from 0.62500\n",
      "\n",
      "Epoch 00008: val_accuracy did not improve from 0.62500\n",
      "\n",
      "Epoch 00009: val_accuracy improved from 0.62500 to 0.67857, saving model to drone_obstruction_classification.hdf5\n",
      "\n",
      "Epoch 00010: val_accuracy did not improve from 0.67857\n",
      "\n",
      "Epoch 00011: val_accuracy improved from 0.67857 to 0.71429, saving model to drone_obstruction_classification.hdf5\n",
      "\n",
      "Epoch 00012: val_accuracy did not improve from 0.71429\n",
      "\n",
      "Epoch 00013: val_accuracy improved from 0.71429 to 0.73214, saving model to drone_obstruction_classification.hdf5\n",
      "\n",
      "Epoch 00014: val_accuracy did not improve from 0.73214\n",
      "\n",
      "Epoch 00015: val_accuracy did not improve from 0.73214\n",
      "\n",
      "Epoch 00016: val_accuracy did not improve from 0.73214\n",
      "\n",
      "Epoch 00017: val_accuracy improved from 0.73214 to 0.80357, saving model to drone_obstruction_classification.hdf5\n",
      "\n",
      "Epoch 00018: val_accuracy did not improve from 0.80357\n",
      "\n",
      "Epoch 00019: val_accuracy did not improve from 0.80357\n",
      "\n",
      "Epoch 00020: val_accuracy did not improve from 0.80357\n",
      "\n",
      "Epoch 00021: val_accuracy did not improve from 0.80357\n",
      "\n",
      "Epoch 00022: val_accuracy improved from 0.80357 to 0.83929, saving model to drone_obstruction_classification.hdf5\n",
      "\n",
      "Epoch 00023: val_accuracy did not improve from 0.83929\n",
      "\n",
      "Epoch 00024: val_accuracy did not improve from 0.83929\n",
      "\n",
      "Epoch 00025: val_accuracy did not improve from 0.83929\n",
      "\n",
      "Epoch 00026: val_accuracy did not improve from 0.83929\n",
      "\n",
      "Epoch 00027: val_accuracy did not improve from 0.83929\n",
      "\n",
      "Epoch 00028: val_accuracy did not improve from 0.83929\n",
      "\n",
      "Epoch 00029: val_accuracy did not improve from 0.83929\n",
      "\n",
      "Epoch 00030: val_accuracy did not improve from 0.83929\n",
      "\n",
      "Epoch 00031: val_accuracy did not improve from 0.83929\n",
      "\n",
      "Epoch 00032: val_accuracy did not improve from 0.83929\n",
      "\n",
      "Epoch 00033: val_accuracy improved from 0.83929 to 0.85714, saving model to drone_obstruction_classification.hdf5\n",
      "\n",
      "Epoch 00034: val_accuracy did not improve from 0.85714\n",
      "\n",
      "Epoch 00035: val_accuracy did not improve from 0.85714\n",
      "\n",
      "Epoch 00036: val_accuracy did not improve from 0.85714\n",
      "\n",
      "Epoch 00037: val_accuracy did not improve from 0.85714\n",
      "\n",
      "Epoch 00038: val_accuracy improved from 0.85714 to 0.89286, saving model to drone_obstruction_classification.hdf5\n",
      "\n",
      "Epoch 00039: val_accuracy did not improve from 0.89286\n",
      "\n",
      "Epoch 00040: val_accuracy did not improve from 0.89286\n",
      "\n",
      "Epoch 00041: val_accuracy did not improve from 0.89286\n",
      "\n",
      "Epoch 00042: val_accuracy did not improve from 0.89286\n",
      "\n",
      "Epoch 00043: val_accuracy did not improve from 0.89286\n",
      "\n",
      "Epoch 00044: val_accuracy did not improve from 0.89286\n",
      "\n",
      "Epoch 00045: val_accuracy did not improve from 0.89286\n",
      "\n",
      "Epoch 00046: val_accuracy did not improve from 0.89286\n",
      "\n",
      "Epoch 00047: val_accuracy did not improve from 0.89286\n",
      "\n",
      "Epoch 00048: val_accuracy did not improve from 0.89286\n",
      "\n",
      "Epoch 00049: val_accuracy did not improve from 0.89286\n",
      "\n",
      "Epoch 00050: val_accuracy did not improve from 0.89286\n"
     ]
    }
   ],
   "source": [
    "# Fit the model\n",
    "#model.fit(X_train, ytrain, epochs=10, batch_size=20,  verbose=1)\n",
    "#model.fit(trainImages, trainLabels, validation_split=0.33, epochs=25, batch_size=10, callbacks=callbacks_list, verbose=0)\n",
    "history_object=model.fit(X_train, y_train, batch_size=64, epochs=50, validation_data=(X_test, y_test),callbacks=callbacks_list, verbose=0)\n"
   ]
  },
  {
   "cell_type": "code",
   "execution_count": 42,
   "metadata": {},
   "outputs": [
    {
     "name": "stdout",
     "output_type": "stream",
     "text": [
      "WARNING:tensorflow:AutoGraph could not transform <function Model.make_predict_function.<locals>.predict_function at 0x0000021A3C762268> and will run it as-is.\n",
      "Please report this to the TensorFlow team. When filing the bug, set the verbosity to 10 (on Linux, `export AUTOGRAPH_VERBOSITY=10`) and attach the full output.\n",
      "Cause: 'arguments' object has no attribute 'posonlyargs'\n",
      "To silence this warning, decorate the function with @tf.autograph.experimental.do_not_convert\n",
      "WARNING: AutoGraph could not transform <function Model.make_predict_function.<locals>.predict_function at 0x0000021A3C762268> and will run it as-is.\n",
      "Please report this to the TensorFlow team. When filing the bug, set the verbosity to 10 (on Linux, `export AUTOGRAPH_VERBOSITY=10`) and attach the full output.\n",
      "Cause: 'arguments' object has no attribute 'posonlyargs'\n",
      "To silence this warning, decorate the function with @tf.autograph.experimental.do_not_convert\n"
     ]
    }
   ],
   "source": [
    "y_predict = model.predict(X_test)"
   ]
  },
  {
   "cell_type": "code",
   "execution_count": 43,
   "metadata": {},
   "outputs": [
    {
     "name": "stdout",
     "output_type": "stream",
     "text": [
      "[[9.1765821e-03]\n",
      " [1.1895513e-04]\n",
      " [3.3773938e-01]\n",
      " [1.1263490e-03]\n",
      " [9.9984539e-01]\n",
      " [9.3941706e-01]\n",
      " [1.6731501e-02]\n",
      " [9.4911528e-01]\n",
      " [6.8376064e-03]\n",
      " [7.2125928e-05]\n",
      " [1.9385234e-01]\n",
      " [5.7856113e-02]\n",
      " [9.2769134e-01]\n",
      " [5.9207439e-02]\n",
      " [7.4248719e-01]\n",
      " [9.4065964e-03]\n",
      " [6.0986441e-01]\n",
      " [3.3446133e-02]\n",
      " [3.2145691e-01]\n",
      " [9.8948145e-01]\n",
      " [9.5089078e-03]\n",
      " [1.3715565e-02]\n",
      " [9.4122410e-01]\n",
      " [9.9561501e-01]\n",
      " [4.1676164e-03]\n",
      " [1.0988936e-01]\n",
      " [2.1156967e-03]\n",
      " [1.5588215e-01]\n",
      " [1.2903884e-01]\n",
      " [3.7227041e-01]\n",
      " [2.6755929e-03]\n",
      " [9.9771869e-01]\n",
      " [3.3812898e-01]\n",
      " [4.3782502e-02]\n",
      " [9.9990427e-01]\n",
      " [3.2243311e-02]\n",
      " [9.9999380e-01]\n",
      " [3.4770629e-01]\n",
      " [2.2454560e-01]\n",
      " [1.0168195e-02]\n",
      " [1.3429126e-01]\n",
      " [7.3762959e-01]\n",
      " [2.8696701e-01]\n",
      " [1.4028966e-02]\n",
      " [5.3908408e-02]\n",
      " [9.9562299e-01]\n",
      " [1.2659192e-02]\n",
      " [5.3494751e-02]\n",
      " [1.5979162e-01]\n",
      " [1.7512441e-02]\n",
      " [1.3960481e-02]\n",
      " [9.9718010e-01]\n",
      " [9.0867281e-03]\n",
      " [5.5453300e-01]\n",
      " [9.9996173e-01]\n",
      " [1.5363842e-02]]\n"
     ]
    }
   ],
   "source": [
    "print(y_predict)"
   ]
  },
  {
   "cell_type": "code",
   "execution_count": 44,
   "metadata": {},
   "outputs": [
    {
     "name": "stdout",
     "output_type": "stream",
     "text": [
      "[0, 0, 0, 0, 1, 1, 0, 1, 0, 0, 0, 0, 1, 0, 1, 0, 1, 0, 0, 1, 0, 0, 1, 1, 0, 0, 0, 0, 0, 0, 0, 1, 0, 0, 1, 0, 1, 0, 0, 0, 0, 1, 0, 0, 0, 1, 0, 0, 0, 0, 0, 1, 0, 1, 1, 0]\n",
      "56\n"
     ]
    }
   ],
   "source": [
    "l = np.rint(y_predict)\n",
    "print([int(x) for x in l.reshape(-1)])\n",
    "#print(np.argmax(y_predict,axis=1))\n",
    "print(len(y_predict))"
   ]
  },
  {
   "cell_type": "code",
   "execution_count": 45,
   "metadata": {},
   "outputs": [
    {
     "name": "stdout",
     "output_type": "stream",
     "text": [
      "[0 0 1 0 1 1 0 1 0 0 0 1 1 0 1 0 1 0 1 1 0 0 1 1 0 1 0 0 0 0 0 1 0 1 1 0 1\n",
      " 1 0 0 0 1 0 0 0 1 0 0 1 0 0 1 0 0 1 0]\n"
     ]
    }
   ],
   "source": [
    "print(y_test)"
   ]
  },
  {
   "cell_type": "code",
   "execution_count": 46,
   "metadata": {},
   "outputs": [
    {
     "name": "stdout",
     "output_type": "stream",
     "text": [
      "2/2 [==============================] - 0s 19ms/step - loss: 0.3218 - accuracy: 0.8571\n"
     ]
    },
    {
     "data": {
      "text/plain": [
       "[0.32184749841690063, 0.8571428656578064]"
      ]
     },
     "execution_count": 46,
     "metadata": {},
     "output_type": "execute_result"
    }
   ],
   "source": [
    "model.evaluate(X_test, y_test)"
   ]
  },
  {
   "cell_type": "code",
   "execution_count": 47,
   "metadata": {},
   "outputs": [
    {
     "name": "stdout",
     "output_type": "stream",
     "text": [
      "dict_keys(['loss', 'accuracy', 'val_loss', 'val_accuracy'])\n"
     ]
    },
    {
     "data": {
      "image/png": "[encoded data removed]",
      "text/plain": [
       "<Figure size 432x288 with 1 Axes>"
      ]
     },
     "metadata": {
      "needs_background": "light"
     },
     "output_type": "display_data"
    }
   ],
   "source": [
    "import matplotlib.pyplot as plt\n",
    "print(history_object.history.keys())\n",
    "plt.plot(history_object.history['accuracy'])\n",
    "plt.plot(history_object.history['val_accuracy'])\n",
    "plt.title('model accuracy')\n",
    "plt.ylabel('acc')\n",
    "plt.xlabel('epoch')\n",
    "plt.legend(['train', 'test'], loc='upper left')\n",
    "plt.show()"
   ]
  },
  {
   "cell_type": "code",
   "execution_count": 48,
   "metadata": {},
   "outputs": [
    {
     "data": {
      "image/png": "[encoded data removed]",
      "text/plain": [
       "<Figure size 432x288 with 1 Axes>"
      ]
     },
     "metadata": {
      "needs_background": "light"
     },
     "output_type": "display_data"
    }
   ],
   "source": [
    "plt.plot(history_object.history['loss'])\n",
    "plt.plot(history_object.history['val_loss'])\n",
    "plt.title('model loss')\n",
    "plt.ylabel('loss')\n",
    "plt.xlabel('epoch')\n",
    "plt.legend(['train', 'test'], loc='upper left')\n",
    "plt.show()"
   ]
  },
  {
   "cell_type": "code",
   "execution_count": 49,
   "metadata": {},
   "outputs": [
    {
     "name": "stdout",
     "output_type": "stream",
     "text": [
      "Saved model to disk\n"
     ]
    }
   ],
   "source": [
    "# serialize model to JSON\n",
    "model_json = model.to_json()\n",
    "with open(\"drone_obstruction_model.json\", \"w\") as json_file:\n",
    "    json_file.write(model_json)\n",
    "# serialize weights to HDF5\n",
    "model.save_weights(\"drone_obstruction_model.h5\")\n",
    "print(\"Saved model to disk\")"
   ]
  },
  {
   "cell_type": "code",
   "execution_count": 50,
   "metadata": {},
   "outputs": [
    {
     "name": "stdout",
     "output_type": "stream",
     "text": [
      "WARNING:tensorflow:From c:\\users\\fakru\\appdata\\local\\programs\\python\\python36\\lib\\site-packages\\tensorflow\\lite\\python\\lite.py:1435: set_learning_phase (from tensorflow.python.keras.backend) is deprecated and will be removed after 2020-10-11.\n",
      "Instructions for updating:\n",
      "Simply pass a True/False value to the `training` argument of the `__call__` method of your layer or model.\n",
      "WARNING:tensorflow:From c:\\users\\fakru\\appdata\\local\\programs\\python\\python36\\lib\\site-packages\\tensorflow\\python\\training\\tracking\\tracking.py:110: Model.state_updates (from tensorflow.python.keras.engine.training) is deprecated and will be removed in a future version.\n",
      "Instructions for updating:\n",
      "This property should not be used in TensorFlow 2.0, as updates are applied automatically.\n",
      "WARNING:tensorflow:From c:\\users\\fakru\\appdata\\local\\programs\\python\\python36\\lib\\site-packages\\tensorflow\\python\\training\\tracking\\tracking.py:110: Layer.updates (from tensorflow.python.keras.engine.base_layer) is deprecated and will be removed in a future version.\n",
      "Instructions for updating:\n",
      "This property should not be used in TensorFlow 2.0, as updates are applied automatically.\n",
      "WARNING:tensorflow:AutoGraph could not transform <function canonicalize_signatures.<locals>.signature_wrapper at 0x0000021A3C3CA2F0> and will run it as-is.\n",
      "Please report this to the TensorFlow team. When filing the bug, set the verbosity to 10 (on Linux, `export AUTOGRAPH_VERBOSITY=10`) and attach the full output.\n",
      "Cause: 'arguments' object has no attribute 'posonlyargs'\n",
      "To silence this warning, decorate the function with @tf.autograph.experimental.do_not_convert\n",
      "WARNING: AutoGraph could not transform <function canonicalize_signatures.<locals>.signature_wrapper at 0x0000021A3C3CA2F0> and will run it as-is.\n",
      "Please report this to the TensorFlow team. When filing the bug, set the verbosity to 10 (on Linux, `export AUTOGRAPH_VERBOSITY=10`) and attach the full output.\n",
      "Cause: 'arguments' object has no attribute 'posonlyargs'\n",
      "To silence this warning, decorate the function with @tf.autograph.experimental.do_not_convert\n",
      "INFO:tensorflow:Assets written to: C:\\Users\\fakru\\AppData\\Local\\Temp\\tmpw2_62edq\\assets\n",
      "WARNING:tensorflow:From c:\\users\\fakru\\appdata\\local\\programs\\python\\python36\\lib\\site-packages\\tensorflow\\lite\\python\\convert_saved_model.py:60: load (from tensorflow.python.saved_model.loader_impl) is deprecated and will be removed in a future version.\n",
      "Instructions for updating:\n",
      "This function will only be available through the v1 compatibility library as tf.compat.v1.saved_model.loader.load or tf.compat.v1.saved_model.load. There will be a new function for importing SavedModels in Tensorflow 2.0.\n",
      "INFO:tensorflow:Restoring parameters from C:\\Users\\fakru\\AppData\\Local\\Temp\\tmpw2_62edq\\variables\\variables\n",
      "INFO:tensorflow:The given SavedModel MetaGraphDef contains SignatureDefs with the following keys: {'serving_default', '__saved_model_init_op'}\n",
      "INFO:tensorflow:input tensors info: \n",
      "INFO:tensorflow:Tensor's key in saved_model's tensor_map: conv2d_3_input\n",
      "INFO:tensorflow: tensor name: serving_default_conv2d_3_input:0, shape: (-1, 75, 75, 3), type: DT_FLOAT\n",
      "INFO:tensorflow:output tensors info: \n",
      "INFO:tensorflow:Tensor's key in saved_model's tensor_map: dense_5\n",
      "INFO:tensorflow: tensor name: StatefulPartitionedCall:0, shape: (-1, 1), type: DT_FLOAT\n",
      "INFO:tensorflow:Restoring parameters from C:\\Users\\fakru\\AppData\\Local\\Temp\\tmpw2_62edq\\variables\\variables\n",
      "WARNING:tensorflow:From c:\\users\\fakru\\appdata\\local\\programs\\python\\python36\\lib\\site-packages\\tensorflow\\lite\\python\\util.py:274: convert_variables_to_constants (from tensorflow.python.framework.graph_util_impl) is deprecated and will be removed in a future version.\n",
      "Instructions for updating:\n",
      "Use `tf.compat.v1.graph_util.convert_variables_to_constants`\n",
      "WARNING:tensorflow:From c:\\users\\fakru\\appdata\\local\\programs\\python\\python36\\lib\\site-packages\\tensorflow\\python\\framework\\convert_to_constants.py:853: extract_sub_graph (from tensorflow.python.framework.graph_util_impl) is deprecated and will be removed in a future version.\n",
      "Instructions for updating:\n",
      "Use `tf.compat.v1.graph_util.extract_sub_graph`\n"
     ]
    },
    {
     "data": {
      "text/plain": [
       "5253280"
      ]
     },
     "execution_count": 50,
     "metadata": {},
     "output_type": "execute_result"
    }
   ],
   "source": [
    "#from tensorflow.contrib import lite\n",
    "converter = tf.compat.v1.lite.TFLiteConverter.from_keras_model_file('drone_obstruction_classification.hdf5')\n",
    "tfmodel = converter.convert()\n",
    "open(\"drone_obstruction_model.tflite\",\"wb\").write(tfmodel)"
   ]
  },
  {
   "cell_type": "code",
   "execution_count": 51,
   "metadata": {},
   "outputs": [],
   "source": [
    "def load_model(model_json='drone_obstruction_model.json', \n",
    "               model_weights='drone_obstruction_model.h5'):\n",
    "    # load json and create model\n",
    "    json_file = open(model_json, 'r')\n",
    "    loaded_model_json = json_file.read()\n",
    "    json_file.close()\n",
    "    loaded_model = model_from_json(loaded_model_json)\n",
    "    # load weights into new model\n",
    "    loaded_model.load_weights(model_weights)\n",
    "    print(\"Loaded model from disk\")\n",
    "    # evaluate loaded model on test data\n",
    "    loaded_model.compile(loss='binary_crossentropy', optimizer='adam', metrics = ['accuracy'])\n",
    "    return loaded_model"
   ]
  },
  {
   "cell_type": "code",
   "execution_count": 52,
   "metadata": {},
   "outputs": [
    {
     "name": "stdout",
     "output_type": "stream",
     "text": [
      "Loaded model from disk\n"
     ]
    }
   ],
   "source": [
    "loaded_model=load_model()"
   ]
  },
  {
   "cell_type": "code",
   "execution_count": 53,
   "metadata": {},
   "outputs": [
    {
     "name": "stdout",
     "output_type": "stream",
     "text": [
      "WARNING:tensorflow:AutoGraph could not transform <function Model.make_predict_function.<locals>.predict_function at 0x0000021A3C3487B8> and will run it as-is.\n",
      "Please report this to the TensorFlow team. When filing the bug, set the verbosity to 10 (on Linux, `export AUTOGRAPH_VERBOSITY=10`) and attach the full output.\n",
      "Cause: 'arguments' object has no attribute 'posonlyargs'\n",
      "To silence this warning, decorate the function with @tf.autograph.experimental.do_not_convert\n"
     ]
    },
    {
     "name": "stderr",
     "output_type": "stream",
     "text": [
      "WARNING:tensorflow:AutoGraph could not transform <function Model.make_predict_function.<locals>.predict_function at 0x0000021A3C3487B8> and will run it as-is.\n",
      "Please report this to the TensorFlow team. When filing the bug, set the verbosity to 10 (on Linux, `export AUTOGRAPH_VERBOSITY=10`) and attach the full output.\n",
      "Cause: 'arguments' object has no attribute 'posonlyargs'\n",
      "To silence this warning, decorate the function with @tf.autograph.experimental.do_not_convert\n"
     ]
    },
    {
     "name": "stdout",
     "output_type": "stream",
     "text": [
      "WARNING: AutoGraph could not transform <function Model.make_predict_function.<locals>.predict_function at 0x0000021A3C3487B8> and will run it as-is.\n",
      "Please report this to the TensorFlow team. When filing the bug, set the verbosity to 10 (on Linux, `export AUTOGRAPH_VERBOSITY=10`) and attach the full output.\n",
      "Cause: 'arguments' object has no attribute 'posonlyargs'\n",
      "To silence this warning, decorate the function with @tf.autograph.experimental.do_not_convert\n",
      "[[0.00193521]]\n"
     ]
    }
   ],
   "source": [
    "test_image_no = 'train_data/test/no/no_11.jpg'\n",
    "image=tf.keras.preprocessing.image.load_img(test_image_no, color_mode='rgb', \n",
    "    target_size= (img_height, img_width))\n",
    "image=np.array(image)\n",
    "image = image.reshape(1,img_width,img_height,3)\n",
    "status = loaded_model.predict(image)\n",
    "print(status)"
   ]
  },
  {
   "cell_type": "code",
   "execution_count": 58,
   "metadata": {},
   "outputs": [
    {
     "name": "stdout",
     "output_type": "stream",
     "text": [
      "[[0.10988933]]\n"
     ]
    }
   ],
   "source": [
    "test_image_yes = 'train_data/train/yes/yes_57.jpg'\n",
    "image=tf.keras.preprocessing.image.load_img(test_image_yes, color_mode='rgb', \n",
    "    target_size= (img_height, img_width))\n",
    "image=np.array(image)\n",
    "image = image.reshape(1,img_height,img_width,3)\n",
    "status = loaded_model.predict(image)\n",
    "print(status)"
   ]
  },
  {
   "cell_type": "code",
   "execution_count": 59,
   "metadata": {},
   "outputs": [],
   "source": [
    "train_no = glob.glob('train_data/test/no/*.*')\n",
    "train_yes = glob.glob('train_data/test/yes/*.*')"
   ]
  },
  {
   "cell_type": "code",
   "execution_count": 60,
   "metadata": {},
   "outputs": [
    {
     "name": "stdout",
     "output_type": "stream",
     "text": [
      "train_data/test/no\\no_11.jpg [[0.00193521]]\n",
      "train_data/test/no\\no_16.jpg [[0.003607]]\n",
      "train_data/test/no\\no_17.jpg [[0.00908673]]\n",
      "train_data/test/no\\no_19.jpg [[0.01804295]]\n",
      "train_data/test/no\\no_2.jpg [[0.00683761]]\n",
      "train_data/test/no\\no_20.jpg [[0.00263384]]\n",
      "train_data/test/no\\no_29.jpg [[0.00514728]]\n",
      "train_data/test/no\\no_3.jpg [[0.00243959]]\n",
      "train_data/test/no\\no_34.jpg [[0.00562012]]\n",
      "train_data/test/no\\no_38.jpg [[0.00698078]]\n",
      "train_data/test/no\\no_43.jpg [[0.03174084]]\n",
      "train_data/test/no\\no_53.jpg [[0.00917658]]\n",
      "train_data/test/no\\no_66.jpg [[0.00072008]]\n",
      "train_data/test/no\\no_75.jpg [[0.00243959]]\n",
      "train_data/test/no\\no_76.jpg [[0.05869421]]\n",
      "train_data/test/no\\no_78.jpg [[0.00344077]]\n",
      "train_data/test/no\\no_83.jpg [[0.00416762]]\n",
      "train_data/test/no\\no_96.jpg [[0.01751247]]\n",
      "train_data/test/no\\yes_55.jpg [[0.41390717]]\n"
     ]
    }
   ],
   "source": [
    "for f in train_no:\n",
    "    image=tf.keras.preprocessing.image.load_img(f, color_mode='rgb', \n",
    "    target_size= (img_height, img_width))\n",
    "    image=np.array(image)\n",
    "    image = image.reshape(1,img_height,img_width,3)\n",
    "    status = loaded_model.predict(image)\n",
    "    print(f, status)"
   ]
  },
  {
   "cell_type": "code",
   "execution_count": 61,
   "metadata": {},
   "outputs": [
    {
     "name": "stdout",
     "output_type": "stream",
     "text": [
      "train_data/test/yes\\yes_10.jpg [[0.00156769]]\n",
      "train_data/test/yes\\yes_100.jpg [[0.87148017]]\n",
      "train_data/test/yes\\yes_11.jpg [[0.98532784]]\n",
      "train_data/test/yes\\yes_18.jpg [[0.1744816]]\n",
      "train_data/test/yes\\yes_2.jpg [[0.26752716]]\n",
      "train_data/test/yes\\yes_24.jpg [[0.77309275]]\n",
      "train_data/test/yes\\yes_27.jpg [[0.9308009]]\n",
      "train_data/test/yes\\yes_28.jpg [[0.8058243]]\n",
      "train_data/test/yes\\yes_36.jpg [[0.10109109]]\n",
      "train_data/test/yes\\yes_4.jpg [[0.05691028]]\n",
      "train_data/test/yes\\yes_40.jpg [[0.87148017]]\n",
      "train_data/test/yes\\yes_42.jpg [[0.8265315]]\n",
      "train_data/test/yes\\yes_44.jpg [[0.9977187]]\n",
      "train_data/test/yes\\yes_51.jpg [[0.97915494]]\n",
      "train_data/test/yes\\yes_57.jpg [[0.9920373]]\n",
      "train_data/test/yes\\yes_6.jpg [[0.99340546]]\n",
      "train_data/test/yes\\yes_96.jpg [[0.9991354]]\n"
     ]
    }
   ],
   "source": [
    "for f in train_yes:\n",
    "    image=tf.keras.preprocessing.image.load_img(f, color_mode='rgb', \n",
    "    target_size= (img_height, img_width))\n",
    "    image=np.array(image)\n",
    "    image = image.reshape(1,img_width,img_height,3)\n",
    "    status = loaded_model.predict(image)\n",
    "    print(f,status)"
   ]
  },
  {
   "cell_type": "code",
   "execution_count": 62,
   "metadata": {},
   "outputs": [],
   "source": [
    "#loaded_model.predict(X_test)"
   ]
  },
  {
   "cell_type": "code",
   "execution_count": 63,
   "metadata": {},
   "outputs": [],
   "source": [
    "import cv2"
   ]
  },
  {
   "cell_type": "code",
   "execution_count": 64,
   "metadata": {},
   "outputs": [
    {
     "data": {
      "text/plain": [
       "Text(0.5, 0.98, 'No Obstruction Prediction Images')"
      ]
     },
     "execution_count": 64,
     "metadata": {},
     "output_type": "execute_result"
    },
    {
     "data": {
      "image/png": "[encoded data removed]",
      "text/plain": [
       "<Figure size 432x288 with 9 Axes>"
      ]
     },
     "metadata": {
      "needs_background": "light"
     },
     "output_type": "display_data"
    }
   ],
   "source": [
    "fig = plt.figure(figsize=(6,4))\n",
    "plt.subplot(331)\n",
    "plt.imshow(cv2.imread('train_data/test/no/no_11.jpg'),cmap='gray')\n",
    "plt.subplot(332)\n",
    "plt.imshow(cv2.imread('train_data/test/no/no_20.jpg'),cmap='gray')\n",
    "plt.subplot(333)\n",
    "plt.imshow(cv2.imread('train_data/test/no/no_29.jpg'),cmap='gray')\n",
    "plt.subplot(334)\n",
    "plt.imshow(cv2.imread('train_data/test/no/no_3.jpg'),cmap='gray')\n",
    "plt.subplot(335)\n",
    "plt.imshow(cv2.imread('train_data/test/no/no_38.jpg'),cmap='gray')\n",
    "plt.subplot(336)\n",
    "plt.imshow(cv2.imread('train_data/test/no/no_53.jpg'),cmap='gray')\n",
    "plt.subplot(337)\n",
    "plt.imshow(cv2.imread('train_data/test/no/no_66.jpg'),cmap='gray')\n",
    "plt.subplot(338)\n",
    "plt.imshow(cv2.imread('train_data/test/no/no_78.jpg'),cmap='gray')\n",
    "plt.subplot(339)\n",
    "plt.imshow(cv2.imread('train_data/test/no/no_83.jpg'),cmap='gray')\n",
    "fig.suptitle(\"No Obstruction Prediction Images\")"
   ]
  },
  {
   "cell_type": "code",
   "execution_count": 66,
   "metadata": {},
   "outputs": [
    {
     "data": {
      "text/plain": [
       "Text(0.5, 0.98, 'Yes Obstruction Prediction Images')"
      ]
     },
     "execution_count": 66,
     "metadata": {},
     "output_type": "execute_result"
    },
    {
     "data": {
      "image/png": "[encoded data removed]",
      "text/plain": [
       "<Figure size 432x288 with 9 Axes>"
      ]
     },
     "metadata": {
      "needs_background": "light"
     },
     "output_type": "display_data"
    }
   ],
   "source": [
    "fig = plt.figure(figsize=(6,4))\n",
    "plt.subplot(331)\n",
    "plt.imshow(cv2.imread('train_data/test/yes/yes_11.jpg'),cmap='gray')\n",
    "plt.subplot(332)\n",
    "plt.imshow(cv2.imread('train_data/test/yes/yes_2.jpg'),cmap='gray')\n",
    "plt.subplot(333)\n",
    "plt.imshow(cv2.imread('train_data/test/yes/yes_27.jpg'),cmap='gray')\n",
    "plt.subplot(334)\n",
    "plt.imshow(cv2.imread('train_data/test/yes/yes_40.jpg'),cmap='gray')\n",
    "plt.subplot(335)\n",
    "plt.imshow(cv2.imread('train_data/test/yes/yes_44.jpg'),cmap='gray')\n",
    "plt.subplot(336)\n",
    "plt.imshow(cv2.imread('train_data/test/yes/yes_51.jpg'),cmap='gray')\n",
    "plt.subplot(337)\n",
    "plt.imshow(cv2.imread('train_data/test/yes/yes_96.jpg'),cmap='gray')\n",
    "plt.subplot(338)\n",
    "plt.imshow(cv2.imread('train_data/test/yes/yes_57.jpg'),cmap='gray')\n",
    "plt.subplot(339)\n",
    "plt.imshow(cv2.imread('train_data/test/yes/yes_6.jpg'),cmap='gray')\n",
    "fig.suptitle(\"Yes Obstruction Prediction Images\")"
   ]
  },
  {
   "cell_type": "code",
   "execution_count": null,
   "metadata": {},
   "outputs": [],
   "source": []
  }
 ],
 "metadata": {
  "kernelspec": {
   "display_name": "Python 3",
   "language": "python",
   "name": "python3"
  },
  "language_info": {
   "codemirror_mode": {
    "name": "ipython",
    "version": 3
   },
   "file_extension": ".py",
   "mimetype": "text/x-python",
   "name": "python",
   "nbconvert_exporter": "python",
   "pygments_lexer": "ipython3",
   "version": "3.6.4"
  }
 },
 "nbformat": 4,
 "nbformat_minor": 4
}
